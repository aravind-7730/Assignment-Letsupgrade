{
 "cells": [
  {
   "cell_type": "markdown",
   "metadata": {},
   "source": [
    "# Day 2 Assignment "
   ]
  },
  {
   "cell_type": "code",
   "execution_count": 2,
   "metadata": {},
   "outputs": [
    {
     "name": "stdout",
     "output_type": "stream",
     "text": [
      "Result: 0.26785714285714285\n"
     ]
    }
   ],
   "source": [
    "x=5\n",
    "y=(2*x+5)/(x*x+5*x+6)\n",
    "print('Result:',y)"
   ]
  },
  {
   "cell_type": "code",
   "execution_count": 3,
   "metadata": {},
   "outputs": [
    {
     "name": "stdout",
     "output_type": "stream",
     "text": [
      "Result: 3.7333333333333334\n"
     ]
    }
   ],
   "source": [
    "x=5\n",
    "y=(x*x+5*x+6)/(2*x+5)\n",
    "print('Result:',y)"
   ]
  },
  {
   "cell_type": "code",
   "execution_count": 35,
   "metadata": {},
   "outputs": [
    {
     "name": "stdout",
     "output_type": "stream",
     "text": [
      "Result: 98\n"
     ]
    }
   ],
   "source": [
    "x=5\n",
    "y=(2*x-3)*(x+9)\n",
    "print('Result:',y) "
   ]
  },
  {
   "cell_type": "code",
   "execution_count": 34,
   "metadata": {},
   "outputs": [
    {
     "name": "stdout",
     "output_type": "stream",
     "text": [
      "Enter Your Username:github\n",
      "Enter Your Password:Hub456\n",
      "Login Succesful\n"
     ]
    }
   ],
   "source": [
    "\n",
    "attemps = 0\n",
    "while 1==1:\n",
    "        username=input('Enter Your Username:')\n",
    "        password=input('Enter Your Password:')\n",
    "        if username=='github':\n",
    "            if password=='Hub456':\n",
    "                print('Login Succesful')\n",
    "                break\n",
    "            else:\n",
    "                print('Password Is Incorrect')\n",
    "        else:\n",
    "            print('Username Is Incorrect')\n",
    "        if attemps==5:\n",
    "            print('Too many attempts...')\n",
    "            break\n",
    "        attemps+=1"
   ]
  }
 ],
 "metadata": {
  "kernelspec": {
   "display_name": "Python 3",
   "language": "python",
   "name": "python3"
  }
 },
 "nbformat": 4,
 "nbformat_minor": 4
}
