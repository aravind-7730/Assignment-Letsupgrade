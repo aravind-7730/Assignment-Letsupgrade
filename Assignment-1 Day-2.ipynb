{
 "cells": [
  {
   "cell_type": "markdown",
   "metadata": {},
   "source": [
    "# Day 2 Assignment "
   ]
  },
  {
   "cell_type": "code",
   "execution_count": null,
   "metadata": {},
   "outputs": [],
   "source": [
    "x=5\n",
    "y=(2*x+5)/(x*x+5*x+6)\n",
    "print('Result:',y)"
   ]
  },
  {
   "cell_type": "code",
   "execution_count": null,
   "metadata": {},
   "outputs": [],
   "source": [
    "x=5\n",
    "y=(x*x+5*x+6)/(2*x+5)\n",
    "print('Result:',y)"
   ]
  },
  {
   "cell_type": "code",
   "execution_count": null,
   "metadata": {},
   "outputs": [],
   "source": [
    "x=5\n",
    "y=(2*x-3)*(x+9)\n",
    "print('Result:',y) "
   ]
  },
  {
   "cell_type": "code",
   "execution_count": null,
   "metadata": {},
   "outputs": [
    {
     "name": "stdout",
     "output_type": "stream",
     "text": [
      "Enter Your Username:github\n",
      "Enter Your Password:Hub456\n",
      "Login Succesful\n",
      "\n",
      "Enter Your Username:ofisj\n",
      "Username Is Incorrect\n",
      "Enter Your Username:fos\n",
      "Username Is Incorrect\n",
      "Enter Your Username:github\n",
      "Enter Your Password:fofe\n",
      "Password Is Incorrect\n",
      "Enter Your Password:fsoe\n",
      "Password Is Incorrect\n",
      "Enter Your Password:lkh\n",
      "Password Is Incorrect\n",
      "Enter Your Password:jkh\n",
      "Password Is Incorrect\n",
      "Enter Your Password:jhd\n",
      "Password Is Incorrect\n",
      "Enter Your Password:jhf\n",
      "Password Is Incorrect\n",
      "Too many attempts...\n",
      "\n"
     ]
    }
   ],
   "source": [
    "\n",
    "attemps = 0\n",
    "\n",
    "while 1==1:\n",
    "        username=input('Enter Your Username:')\n",
    "        \n",
    "        if username=='github':\n",
    "            while 1==1:\n",
    "                password=input('Enter Your Password:')   \n",
    "                if password=='Hub456':\n",
    "                    print('Login Succesful\\n')\n",
    "                    break\n",
    "                else:\n",
    "                    print('Password Is Incorrect')\n",
    "                \n",
    "                if attemps==5:\n",
    "                    print('Too many attempts...\\n')\n",
    "                    break\n",
    "                attemps+=1\n",
    "        else:\n",
    "            print('Username Is Incorrect')\n",
    "            \n"
   ]
  },
  {
   "cell_type": "code",
   "execution_count": null,
   "metadata": {},
   "outputs": [],
   "source": []
  },
  {
   "cell_type": "code",
   "execution_count": null,
   "metadata": {},
   "outputs": [],
   "source": []
  }
 ],
 "metadata": {
  "kernelspec": {
   "display_name": "Python 3",
   "language": "python",
   "name": "python3"
  },
  "language_info": {
   "codemirror_mode": {
    "name": "ipython",
    "version": 3
   },
   "file_extension": ".py",
   "mimetype": "text/x-python",
   "name": "python",
   "nbconvert_exporter": "python",
   "pygments_lexer": "ipython3",
   "version": "3.8.5"
  }
 },
 "nbformat": 4,
 "nbformat_minor": 4
}
